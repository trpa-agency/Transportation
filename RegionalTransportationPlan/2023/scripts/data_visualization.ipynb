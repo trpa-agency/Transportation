{
 "cells": [
  {
   "cell_type": "markdown",
   "metadata": {},
   "source": [
    "## RTP Data Visualizations"
   ]
  },
  {
   "cell_type": "code",
   "execution_count": null,
   "metadata": {},
   "outputs": [],
   "source": [
    "from great_tables import *\n",
    "import pandas as pd\n",
    "imprt path\n",
    "pathCSV = data_dir / \"RegionalTransportationPlan/2023/data/Forecasts_Table1.csv\"\n",
    "print(pathCSV)"
   ]
  },
  {
   "cell_type": "code",
   "execution_count": null,
   "metadata": {},
   "outputs": [],
   "source": []
  },
  {
   "cell_type": "markdown",
   "metadata": {},
   "source": []
  },
  {
   "cell_type": "markdown",
   "metadata": {},
   "source": [
    "### Forecast Formatted Table"
   ]
  },
  {
   "cell_type": "code",
   "execution_count": null,
   "metadata": {},
   "outputs": [],
   "source": [
    "# get forecast data\n",
    "forecast = pd.read_csv(data_dir / \"Forecasts_Table1.csv\")\n",
    "# drop notes column \n",
    "forecast.drop(columns=['Notes'], inplace=True)\n",
    "# change column names\n",
    "forecast.rename(columns={'Change by 2050': 'Change(#)', 'Percent Change': 'Change(%)'}, inplace=True)"
   ]
  },
  {
   "cell_type": "code",
   "execution_count": null,
   "metadata": {},
   "outputs": [],
   "source": [
    "GT(forecast).tab_header(title=\"Table 1. Forecast Data Summary\").tab_spanner(\n",
    "    label=\"\", columns=['Category', 'Variable','Base Year 2022',  'Forecast 2050', 'Change(#)', 'Change(%)']).tab_stub(\n",
    "        rowname_col='Variable', groupname_col='Category').tab_style(\n",
    "            style=style.fill(color=\"aliceblue\"), locations=loc.body()).save(\"forecast.jpeg\")\n"
   ]
  },
  {
   "cell_type": "markdown",
   "metadata": {},
   "source": [
    "### Transit Stacked Bar"
   ]
  },
  {
   "cell_type": "code",
   "execution_count": null,
   "metadata": {},
   "outputs": [],
   "source": [
    "# get data for transit ridership\n",
    "def get_data_transit():\n",
    "    url = \"https://www.laketahoeinfo.org/WebServices/GetTransitMonitoringData/CSV/e17aeb86-85e3-4260-83fd-a2b32501c476\"\n",
    "\n",
    "    dfTransit = pd.read_csv(url)\n",
    "    dfTransit['Month'] = pd.to_datetime(dfTransit['Month'])\n",
    "    dfTransit['Month'] = dfTransit['Month'].dt.strftime('%Y-%m')\n",
    "    # filter out rows where RouteType is not Paratransit, Commuter, or Seasonal Fixed\n",
    "    df = dfTransit.loc[~dfTransit['RouteType'].isin(['Paratransit', 'Commuter', 'Seasonal Fixed Route'])]\n",
    "    # df = dfTransit.loc[dfTransit['RouteType'] != 'Paratransit']\n",
    "\n",
    "    # replace transit operator values with abreviations\n",
    "    df['TransitOperator'] = df['TransitOperator'].replace(\n",
    "        ['Tahoe Transportation District',\n",
    "       'Tahoe Truckee Area Regional Transit',\n",
    "       'South Shore Transportation Management Association'],\n",
    "       [\"TTD\", \"TART\", \"SSTMA\"])\n",
    "    # route name = route type + transit operator\n",
    "    df['RouteName'] = df['RouteType'] + ' - ' + df['TransitOperator']\n",
    "    # group by RouteType, TransitOperator, and Month with sum of MonthlyRidership\n",
    "    df = df.groupby(['RouteName', 'Month'])['MonthlyRidership'].sum().reset_index()\n",
    "    # rename columns to Date, Name, Ridership\n",
    "    df.rename(columns={'Month':'Date', 'RouteName':'Name', 'MonthlyRidership':'Ridership'}, inplace=True)\n",
    "    # sort by Date\n",
    "    df = df.sort_values('Date')\n",
    "    return df\n",
    "\n",
    "# html/3.3.a_Transit_Ridership.html\n",
    "def plot_transit(df):\n",
    "    trendline(\n",
    "        df,\n",
    "        path_html=\"html/3.3.a_Transit_Ridership.html\",\n",
    "        div_id=\"3.3.a_Transit_Ridership\",\n",
    "        x=\"Date\",\n",
    "        y=\"Ridership\",\n",
    "        color=\"Name\",\n",
    "        color_sequence=[\"#023f64\", \"#7ebfb5\", \"#a48352\", \"#FC9A62\"],\n",
    "        sort=\"Date\",\n",
    "        orders=None,\n",
    "        x_title=\"Date\",\n",
    "        y_title=\"Ridership\",\n",
    "        markers=True,\n",
    "        hover_data=None,\n",
    "        tickvals=None,\n",
    "        ticktext=None,\n",
    "        tickangle=None,\n",
    "        hovermode=\"x unified\",\n",
    "        format=\",.0f\",\n",
    "        custom_data=[\"Name\"],\n",
    "        hovertemplate=\"<br>\".join([\n",
    "            \"<b>%{y:,.0f}</b> riders on\",\n",
    "            \"<i>%{customdata[0]}</i> lines\"\n",
    "                ])+\"<extra></extra>\",\n",
    "        additional_formatting = dict(\n",
    "                                    title = \"Transit Ridership\",\n",
    "                                    margin=dict(t=20),\n",
    "                                    legend=dict(\n",
    "                                        # title=\"Transit Ridership\",\n",
    "                                        orientation=\"h\",\n",
    "                                        entrywidth=120,\n",
    "                                        yanchor=\"bottom\",\n",
    "                                        y=1.05,\n",
    "                                        xanchor=\"right\",\n",
    "                                        x=0.95,\n",
    "                                    ))\n",
    "    )"
   ]
  }
 ],
 "metadata": {
  "language_info": {
   "name": "python"
  }
 },
 "nbformat": 4,
 "nbformat_minor": 2
}
