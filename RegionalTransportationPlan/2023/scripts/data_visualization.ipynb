{
 "cells": [
  {
   "cell_type": "markdown",
   "metadata": {},
   "source": [
    "## RTP Data Visualizations"
   ]
  },
  {
   "cell_type": "code",
   "execution_count": 3,
   "metadata": {},
   "outputs": [],
   "source": [
    "# get data for infographic\n",
    "import pandas as pd\n",
    "import pathlib\n",
    "import os\n",
    "\n",
    "# current working directory\n",
    "local_path = pathlib.Path().absolute()\n",
    "\n",
    "# get bonus_condit\n",
    "# set data path as a subfolder of the current working directory TravelDemandModel\\2022\\\n",
    "data_dir = local_path.parents[0] / 'data'\n",
    "# folder to save processed data\n",
    "out_dir  = local_path.parents[0] / 'data/processed_data'\n",
    "df = pd.read_csv(data_dir / \"Parcels_Forecast.csv\")"
   ]
  },
  {
   "cell_type": "code",
   "execution_count": null,
   "metadata": {},
   "outputs": [],
   "source": [
    "df.columns.to_list()"
   ]
  },
  {
   "cell_type": "markdown",
   "metadata": {},
   "source": []
  },
  {
   "cell_type": "code",
   "execution_count": null,
   "metadata": {},
   "outputs": [],
   "source": [
    "df.Residential_Units.sum()"
   ]
  },
  {
   "cell_type": "code",
   "execution_count": null,
   "metadata": {},
   "outputs": [],
   "source": [
    "# get percent of total Forecasted Residential Units by Location to Town Center\n",
    "dfSummary = df.groupby(['LOCATION_TO_TOWNCENTER']).agg({'Residential_Units':'sum',\n",
    "                                                        'FORECASTED_RESIDENTIAL_UNITS':'sum',\n",
    "                                                        }).reset_index()\n",
    "\n",
    "# get total forecasted residential units\n",
    "dfSummary['Total_Residential_Units'] = dfSummary['FORECASTED_RESIDENTIAL_UNITS'] + dfSummary['Residential_Units']\n",
    "# get percent of total forecasted residential units\n",
    "dfSummary['Percent_FutureTotal_Residential_Units'] = (dfSummary['Total_Residential_Units'] / dfSummary['Total_Residential_Units'].sum() * 100).round(0)\n",
    "dfSummary['Percent_CurrentTotal_Residential_Units'] =(dfSummary['Residential_Units'] / dfSummary['Residential_Units'].sum() * 100).round(0)\n",
    "\n",
    "# filter dataframe to just perecnt fields\n",
    "dfResSummary = dfSummary[['LOCATION_TO_TOWNCENTER','Percent_FutureTotal_Residential_Units','Percent_CurrentTotal_Residential_Units']]\n",
    "dfResSummary\n"
   ]
  },
  {
   "cell_type": "code",
   "execution_count": null,
   "metadata": {},
   "outputs": [],
   "source": [
    "# get percent of total Forecasted Tourist Units by Location to Town Center\n",
    "dfSummary = df.groupby(['LOCATION_TO_TOWNCENTER']).agg({'TouristAccommodation_Units':'sum',\n",
    "                                                        'FORECASTED_TOURIST_UNITS':'sum',\n",
    "                                                        }).reset_index()\n",
    "\n",
    "# get total forecasted tourist units\n",
    "dfSummary['Total_Tourist_Units'] = dfSummary['FORECASTED_TOURIST_UNITS'] + dfSummary['TouristAccommodation_Units']\n",
    "# get percent of total forecasted tourist units\n",
    "dfSummary['Percent_FutureTotal_Tourist_Units'] = (dfSummary['Total_Tourist_Units'] / dfSummary['Total_Tourist_Units'].sum() * 100).round(0)\n",
    "dfSummary['Percent_CurrentTotal_Tourist_Units'] =(dfSummary['TouristAccommodation_Units'] / dfSummary['TouristAccommodation_Units'].sum() * 100).round(0)\n",
    "# filter dataframe to just perecnt fields\n",
    "# dfTouristSummary = dfSummary[['LOCATION_TO_TOWNCENTER','Percent_FutureTotal_Tourist_Units','Percent_CurrentTotal_Tourist_Units']]\n",
    "dfSummary"
   ]
  },
  {
   "cell_type": "code",
   "execution_count": null,
   "metadata": {},
   "outputs": [],
   "source": [
    "dfSummary.TouristAccommodation_Units.sum()"
   ]
  },
  {
   "cell_type": "code",
   "execution_count": null,
   "metadata": {},
   "outputs": [],
   "source": [
    "11039 + 698"
   ]
  },
  {
   "cell_type": "code",
   "execution_count": null,
   "metadata": {},
   "outputs": [],
   "source": [
    "9645+698"
   ]
  },
  {
   "cell_type": "code",
   "execution_count": null,
   "metadata": {},
   "outputs": [],
   "source": [
    "10343/11737"
   ]
  },
  {
   "cell_type": "code",
   "execution_count": null,
   "metadata": {},
   "outputs": [],
   "source": [
    "# get percent of total Forecasted Commercial Floor Area by Location to Town Center\n",
    "dfSummary = df.groupby(['LOCATION_TO_TOWNCENTER']).agg({'CommercialFloorArea_SqFt':'sum',\n",
    "                                                        'FORECASTED_COMMERCIAL_SQFT':'sum',\n",
    "                                                        }).reset_index()\n",
    "\n",
    "# get total forecasted commercial floor area\n",
    "dfSummary['Total_Commercial_SqFt'] = dfSummary['FORECASTED_COMMERCIAL_SQFT'] + dfSummary['CommercialFloorArea_SqFt']\n",
    "# get percent of total forecasted commercial floor area\n",
    "dfSummary['Percent_FutureTotal_Commercial_SqFt'] = (dfSummary['Total_Commercial_SqFt'] / dfSummary['Total_Commercial_SqFt'].sum() * 100).round(0)\n",
    "dfSummary['Percent_CurrentTotal_Commercial_SqFt'] =(dfSummary['CommercialFloorArea_SqFt'] / dfSummary['CommercialFloorArea_SqFt'].sum() * 100).round(0)\n",
    "# filter dataframe to just perecnt fields\n",
    "# dfCommercialSummary = dfSummary[['LOCATION_TO_TOWNCENTER','Percent_FutureTotal_Commercial_SqFt','Percent_CurrentTotal_Commercial_SqFt']]\n",
    "# dfCommercialSummary\n",
    "dfSummary"
   ]
  },
  {
   "cell_type": "code",
   "execution_count": null,
   "metadata": {},
   "outputs": [],
   "source": [
    "dfSummary.CommercialFloorArea_SqFt.sum()"
   ]
  },
  {
   "cell_type": "markdown",
   "metadata": {},
   "source": [
    "### Forecast Formatted Table"
   ]
  },
  {
   "cell_type": "code",
   "execution_count": null,
   "metadata": {},
   "outputs": [],
   "source": [
    "# get forecast data\n",
    "forecast = pd.read_csv(data_dir / \"Forecasts_Table1.csv\")\n",
    "# drop notes column \n",
    "forecast.drop(columns=['Notes'], inplace=True)\n",
    "# change column names\n",
    "forecast.rename(columns={'Change by 2050': 'Change(#)', 'Percent Change': 'Change(%)'}, inplace=True)"
   ]
  },
  {
   "cell_type": "code",
   "execution_count": null,
   "metadata": {},
   "outputs": [],
   "source": [
    "GT(forecast).tab_header(title=\"Table 1. Forecast Data Summary\").tab_spanner(\n",
    "    label=\"\", columns=['Category', 'Variable','Base Year 2022',  'Forecast 2050', 'Change(#)', 'Change(%)']).tab_stub(\n",
    "        rowname_col='Variable', groupname_col='Category').tab_style(\n",
    "            style=style.fill(color=\"aliceblue\"), locations=loc.body()).save(\"forecast.jpeg\")\n"
   ]
  },
  {
   "cell_type": "markdown",
   "metadata": {},
   "source": [
    "### Transit Stacked Bar"
   ]
  },
  {
   "cell_type": "code",
   "execution_count": null,
   "metadata": {},
   "outputs": [],
   "source": [
    "# get data for transit ridership\n",
    "def get_data_transit():\n",
    "    url = \"https://www.laketahoeinfo.org/WebServices/GetTransitMonitoringData/CSV/e17aeb86-85e3-4260-83fd-a2b32501c476\"\n",
    "\n",
    "    dfTransit = pd.read_csv(url)\n",
    "    dfTransit['Month'] = pd.to_datetime(dfTransit['Month'])\n",
    "    dfTransit['Month'] = dfTransit['Month'].dt.strftime('%Y-%m')\n",
    "    # filter out rows where RouteType is not Paratransit, Commuter, or Seasonal Fixed\n",
    "    df = dfTransit.loc[~dfTransit['RouteType'].isin(['Paratransit', 'Commuter', 'Seasonal Fixed Route'])]\n",
    "    # df = dfTransit.loc[dfTransit['RouteType'] != 'Paratransit']\n",
    "\n",
    "    # replace transit operator values with abreviations\n",
    "    df['TransitOperator'] = df['TransitOperator'].replace(\n",
    "        ['Tahoe Transportation District',\n",
    "       'Tahoe Truckee Area Regional Transit',\n",
    "       'South Shore Transportation Management Association'],\n",
    "       [\"TTD\", \"TART\", \"SSTMA\"])\n",
    "    # route name = route type + transit operator\n",
    "    df['RouteName'] = df['RouteType'] + ' - ' + df['TransitOperator']\n",
    "    # group by RouteType, TransitOperator, and Month with sum of MonthlyRidership\n",
    "    df = df.groupby(['RouteName', 'Month'])['MonthlyRidership'].sum().reset_index()\n",
    "    # rename columns to Date, Name, Ridership\n",
    "    df.rename(columns={'Month':'Date', 'RouteName':'Name', 'MonthlyRidership':'Ridership'}, inplace=True)\n",
    "    # sort by Date\n",
    "    df = df.sort_values('Date')\n",
    "    return df\n",
    "\n",
    "# html/3.3.a_Transit_Ridership.html\n",
    "def plot_transit(df):\n",
    "    trendline(\n",
    "        df,\n",
    "        path_html=\"html/3.3.a_Transit_Ridership.html\",\n",
    "        div_id=\"3.3.a_Transit_Ridership\",\n",
    "        x=\"Date\",\n",
    "        y=\"Ridership\",\n",
    "        color=\"Name\",\n",
    "        color_sequence=[\"#023f64\", \"#7ebfb5\", \"#a48352\", \"#FC9A62\"],\n",
    "        sort=\"Date\",\n",
    "        orders=None,\n",
    "        x_title=\"Date\",\n",
    "        y_title=\"Ridership\",\n",
    "        markers=True,\n",
    "        hover_data=None,\n",
    "        tickvals=None,\n",
    "        ticktext=None,\n",
    "        tickangle=None,\n",
    "        hovermode=\"x unified\",\n",
    "        format=\",.0f\",\n",
    "        custom_data=[\"Name\"],\n",
    "        hovertemplate=\"<br>\".join([\n",
    "            \"<b>%{y:,.0f}</b> riders on\",\n",
    "            \"<i>%{customdata[0]}</i> lines\"\n",
    "                ])+\"<extra></extra>\",\n",
    "        additional_formatting = dict(\n",
    "                                    title = \"Transit Ridership\",\n",
    "                                    margin=dict(t=20),\n",
    "                                    legend=dict(\n",
    "                                        # title=\"Transit Ridership\",\n",
    "                                        orientation=\"h\",\n",
    "                                        entrywidth=120,\n",
    "                                        yanchor=\"bottom\",\n",
    "                                        y=1.05,\n",
    "                                        xanchor=\"right\",\n",
    "                                        x=0.95,\n",
    "                                    ))\n",
    "    )"
   ]
  }
 ],
 "metadata": {
  "kernelspec": {
   "display_name": "arcgispro-py3",
   "language": "python",
   "name": "python3"
  },
  "language_info": {
   "codemirror_mode": {
    "name": "ipython",
    "version": 3
   },
   "file_extension": ".py",
   "mimetype": "text/x-python",
   "name": "python",
   "nbconvert_exporter": "python",
   "pygments_lexer": "ipython3",
   "version": "3.11.10"
  }
 },
 "nbformat": 4,
 "nbformat_minor": 2
}
