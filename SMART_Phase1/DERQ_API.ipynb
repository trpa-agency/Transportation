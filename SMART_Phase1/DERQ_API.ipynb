{
 "cells": [
  {
   "cell_type": "code",
   "execution_count": 7,
   "id": "97e30210",
   "metadata": {},
   "outputs": [],
   "source": [
    "import os\n",
    "import requests\n",
    "import pandas as pd"
   ]
  },
  {
   "cell_type": "code",
   "execution_count": 2,
   "id": "676cedb4",
   "metadata": {},
   "outputs": [],
   "source": [
    "all_event_types = 'IC, WWD, STPV, TV, LCV, RLV, NM-VV, NM-VRU, CRSH'\n",
    "default_speed_buckets = '5,10,15,20,25'\n",
    "\n",
    "derq_api_url = 'https://api-external.cloud.derq.com'\n",
    "\n",
    "headers = {\n",
    "    \"x-api-key\": os.getenv('derq-api-key')\n",
    "}"
   ]
  },
  {
   "cell_type": "code",
   "execution_count": 6,
   "id": "82a40427-3032-4e5d-9510-a4e85258b95a",
   "metadata": {
    "microsoft": {
     "language": "python",
     "language_group": "synapse_pyspark"
    }
   },
   "outputs": [],
   "source": [
    "# DERQ API FUNCTIONS\n",
    "def get_derq_locations():\n",
    "    url = derq_api_url + '/locations'\n",
    "    return requests.get(url, headers=headers).json()\n",
    "\n",
    "def get_derq_events(location, start, end, event_types=all_event_types):\n",
    "    url = derq_api_url + f'/safety-insights?locationId={location}&startDate={start}&endDate={end}&eventTypes={event_types}'\n",
    "    return requests.get(url, headers=headers).json()\n",
    "\n",
    "def get_derq_veh_counts(location, start, end):\n",
    "    url = derq_api_url + f'/counts/vehicle?locationId={location}&startDate={start}&endDate={end}'\n",
    "    return requests.get(url, headers=headers).json()\n",
    "\n",
    "def get_derq_vru_counts(location, start, end):\n",
    "    url = derq_api_url + f'/counts/vru?locationId={location}&startDate={start}&endDate={end}'\n",
    "    return requests.get(url, headers=headers).json()\n",
    "\n",
    "def get_derq_speeds(location, start, end, buckets=default_speed_buckets, unit='mph'):\n",
    "    url = derq_api_url + f'/speed-distribution?locationId={location}&startDate={start}&endDate={end}&speedBuckets={buckets}&speedUnit={unit}'\n",
    "    return requests.get(url, headers=headers).json()\n",
    "\n",
    "def process_response_derq(response, intersection_id, df_list):\n",
    "    if response:\n",
    "        data = response.get('body', [])\n",
    "        if data:\n",
    "            df = pd.DataFrame(data)\n",
    "            df['intersection_id'] = intersection_id\n",
    "            df_list.append(df)"
   ]
  },
  {
   "cell_type": "code",
   "execution_count": null,
   "id": "3f29bb21",
   "metadata": {},
   "outputs": [],
   "source": [
    "locations = get_derq_locations()\n",
    "print(f\"Locations: {locations}\")"
   ]
  }
 ],
 "metadata": {
  "dependencies": {
   "lakehouse": {}
  },
  "kernel_info": {
   "name": "synapse_pyspark"
  },
  "kernelspec": {
   "display_name": "arcgispro-py3",
   "language": "python",
   "name": "python3"
  },
  "language_info": {
   "codemirror_mode": {
    "name": "ipython",
    "version": 3
   },
   "file_extension": ".py",
   "mimetype": "text/x-python",
   "name": "python",
   "nbconvert_exporter": "python",
   "pygments_lexer": "ipython3",
   "version": "3.11.10"
  },
  "microsoft": {
   "language": "python",
   "language_group": "synapse_pyspark",
   "ms_spell_check": {
    "ms_spell_check_language": "en"
   }
  },
  "nteract": {
   "version": "nteract-front-end@1.0.0"
  },
  "spark_compute": {
   "compute_id": "/trident/default",
   "session_options": {
    "conf": {
     "spark.synapse.nbs.session.timeout": "1200000"
    }
   }
  }
 },
 "nbformat": 4,
 "nbformat_minor": 5
}
