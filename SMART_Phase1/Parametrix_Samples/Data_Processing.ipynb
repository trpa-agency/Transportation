{
 "cells": [
  {
   "cell_type": "code",
   "execution_count": null,
   "metadata": {},
   "outputs": [],
   "source": [
    "import pandas as pd\n",
    "import os\n",
    "import arcpy\n",
    "from arcgis.gis import GIS\n",
    "from arcgis.server import AdminAPI\n",
    "from arcgis.mapping import MapImageLayer\n",
    "from arcgis.features import FeatureLayerCollection"
   ]
  },
  {
   "cell_type": "markdown",
   "metadata": {},
   "source": [
    "#### Get Data via API"
   ]
  },
  {
   "cell_type": "code",
   "execution_count": null,
   "metadata": {},
   "outputs": [],
   "source": [
    "# API key and endpoint\n",
    "api_url = \"\"\n",
    "api_key = \"\""
   ]
  },
  {
   "cell_type": "markdown",
   "metadata": {},
   "source": [
    "#### Transform Data"
   ]
  },
  {
   "cell_type": "code",
   "execution_count": null,
   "metadata": {},
   "outputs": [],
   "source": [
    "vru_approach_dict = {\n",
    "    'NB': 'S',\n",
    "    'SB': 'N',\n",
    "    'EB': 'W',\n",
    "    'WB': 'E'\n",
    "}\n",
    "\n",
    "class_dict = {\n",
    "    'Mobility Aid': 'Pedestrian',\n",
    "    'Motorcycle': 'Passenger Vehicle',\n",
    "    'Articulated Truck': 'Semi Truck',\n",
    "    'Single Unit Truck': 'Box Truck',\n",
    "    'Person Mobility Device': 'Pedestrian'\n",
    "}\n",
    "\n",
    "severity_dict = {\n",
    "    'High': 'Severe',\n",
    "    'Low': 'Moderate'\n",
    "}\n",
    "\n",
    "default_date = '1900-01-01'"
   ]
  },
  {
   "cell_type": "code",
   "execution_count": null,
   "metadata": {},
   "outputs": [],
   "source": [
    "def import_and_concatenate_csvs(folder_path):\n",
    "    # List all CSV files in the folder\n",
    "    csv_files = [f for f in os.listdir(folder_path) if f.endswith('.csv')]\n",
    "    \n",
    "    # Initialize an empty list to store DataFrames\n",
    "    df_list = []\n",
    "\n",
    "    # Iterate through each CSV file\n",
    "    for file in csv_files:\n",
    "        # Construct the full file path\n",
    "        file_path = os.path.join(folder_path, file)\n",
    "        \n",
    "        # Read the CSV file into a DataFrame\n",
    "        df = pd.read_csv(file_path)\n",
    "\n",
    "        df_list.append(df)\n",
    "        concatenated_df = pd.concat(df_list, ignore_index=True)\n",
    "        # pull the location from the file name based on everything before the first underscore\n",
    "        location = file.split('_')[0]\n",
    "        df['Location'] = location\n",
    "    \n",
    "    return concatenated_df"
   ]
  },
  {
   "cell_type": "code",
   "execution_count": null,
   "metadata": {},
   "outputs": [],
   "source": [
    "all_traffic_df = import_and_concatenate_csvs('Data')"
   ]
  },
  {
   "cell_type": "code",
   "execution_count": null,
   "metadata": {},
   "outputs": [],
   "source": [
    "# get times\n",
    "all_traffic_df[['time', 'end_time']] = all_traffic_df['timeInterval'].str.split(' - ', expand=True)\n",
    "all_traffic_df['time'] = pd.to_datetime(default_date + ' ' + all_traffic_df['time'])\n",
    "# convert time to just time format\n",
    "all_traffic_df['time'] = all_traffic_df['time'].dt.time\n",
    "\n",
    "# get dates as datetime\n",
    "all_traffic_df['date'] = pd.to_datetime(all_traffic_df['date'])\n",
    "all_traffic_df['date'] = all_traffic_df['date'].dt.date\n",
    "\n",
    "# drop and rename excess columns\n",
    "all_traffic_df.drop(columns=['timeInterval', 'movement',  'end_time'], inplace=True)\n",
    "all_traffic_df.rename(columns={'movementType': 'movement', 'count': 'volume', 'date':'date_count', 'time':'time_count'}, inplace=True)\n",
    "\n",
    "all_traffic_df['class'] = all_traffic_df['class'].str.replace('_', ' ').str.title()\n",
    "all_traffic_df['class'] = all_traffic_df['class'].replace(class_dict)\n",
    "\n",
    "mask = all_traffic_df['movement'] == 'CROSSING'\n",
    "all_traffic_df.loc[mask, 'approach'] = all_traffic_df.loc[mask, 'approach'].map(vru_approach_dict)\n",
    "\n",
    "all_traffic_df"
   ]
  },
  {
   "cell_type": "code",
   "execution_count": null,
   "metadata": {},
   "outputs": [],
   "source": [
    "all_traffic_df.to_csv('all_traffic.csv', index=False)"
   ]
  },
  {
   "cell_type": "markdown",
   "metadata": {},
   "source": [
    "#### Load data into SDE"
   ]
  },
  {
   "cell_type": "code",
   "execution_count": null,
   "metadata": {},
   "outputs": [],
   "source": [
    "# truncate and append to the database\n",
    "def truncate_and_append_to_db(df, table_name, db_path):\n",
    "    "
   ]
  },
  {
   "cell_type": "code",
   "execution_count": null,
   "metadata": {},
   "outputs": [],
   "source": []
  },
  {
   "cell_type": "code",
   "execution_count": null,
   "metadata": {},
   "outputs": [],
   "source": []
  },
  {
   "cell_type": "markdown",
   "metadata": {},
   "source": [
    "#### Publish Map Service"
   ]
  },
  {
   "cell_type": "code",
   "execution_count": null,
   "metadata": {},
   "outputs": [],
   "source": [
    "# Define the ArcGIS Portal (could be AGOL, Enterprise, or Server)\n",
    "gis_url = 'https://maps.trpa.org/portal/home/'  # Change to your ArcGIS Portal URL (for AGOL or your enterprise portal)\n",
    "username = os.environ.get('GIS_USERNAME')  \n",
    "password = os.environ.get('GIS_PASSWORD')\n",
    "\n",
    "# Connect to the GIS portal\n",
    "gis = GIS(gis_url, username, password)\n",
    "\n",
    "# Define the path to your ArcGIS Pro project (.aprx) and the feature layer you want to publish\n",
    "aprx_path = r'C:\\path\\to\\your\\map.aprx'\n",
    "feature_layer_name = 'your_feature_layer_name'  # Name of the feature layer you want to publish\n",
    "\n",
    "# Connect to your ArcGIS Server or Portal for Publishing\n",
    "server_url = 'https://your-arcgis-server-url/arcgis'  # Change to your ArcGIS Server URL\n",
    "admin_user = 'admin_username'\n",
    "admin_password = 'admin_password'\n",
    "\n",
    "# Connect to ArcGIS Server using the Admin API\n",
    "server = AdminAPI(url=server_url, username=admin_user, password=admin_password)\n",
    "\n",
    "# Load the ArcGIS Pro project\n",
    "aprx = arcpy.mp.ArcGISProject(aprx_path)\n",
    "map_frame = aprx.listMaps()[0]  # Get the first map in the project\n",
    "\n",
    "# Find the feature layer in the map\n",
    "feature_layer = None\n",
    "for layer in map_frame.listLayers():\n",
    "    if layer.name == feature_layer_name:\n",
    "        feature_layer = layer\n",
    "        break\n",
    "\n",
    "# Check if the feature layer was found\n",
    "if feature_layer is None:\n",
    "    raise ValueError(f\"Feature layer '{feature_layer_name}' not found in the map.\")\n",
    "\n",
    "# Prepare to publish the feature layer as a Feature Service\n",
    "def publish_feature_service(aprx, feature_layer, service_properties):\n",
    "    # Convert the feature layer to a service definition draft\n",
    "    sd_draft = feature_layer.getDefinition()\n",
    "\n",
    "    # Set the properties for the service\n",
    "    sd_draft.title = service_properties['Traffic Counts from ']\n",
    "    sd_draft.snippet = service_properties['snippet']\n",
    "    sd_draft.tags = service_properties['Traffic Counts by Location', \n",
    "                                       'Transportation', 'Traffic Counts',\n",
    "                                       'TRPA']\n",
    "    sd_draft.description = service_properties['description']\n",
    "    \n",
    "    # Define the service type (Feature Service)\n",
    "    sd_draft.type = \"Feature Service\"\n",
    "\n",
    "    # Now, publish the feature layer as a service\n",
    "    try:\n",
    "        print(f\"Publishing feature layer '{feature_layer.name}' as a feature service...\")\n",
    "        feature_layer.publish()  # This step actually uploads the feature layer as a service\n",
    "        print(f\"Feature service '{service_properties['title']}' has been published successfully.\")\n",
    "    except Exception as e:\n",
    "        print(f\"Error publishing feature service: {e}\")\n",
    "\n",
    "# Define the service properties (modify these according to your needs)\n",
    "service_properties = {\n",
    "    'title': 'My Feature Service',\n",
    "    'snippet': 'A feature service containing spatial data.',\n",
    "    'tags': ['feature', 'service', 'geospatial'],\n",
    "    'description': 'This feature service provides data on certain geographical entities.'\n",
    "}\n",
    "\n",
    "# Run the publish function\n",
    "publish_feature_service(aprx, feature_layer, service_properties)\n"
   ]
  }
 ],
 "metadata": {
  "kernelspec": {
   "display_name": "arcgispro-py3",
   "language": "python",
   "name": "python3"
  },
  "language_info": {
   "codemirror_mode": {
    "name": "ipython",
    "version": 3
   },
   "file_extension": ".py",
   "mimetype": "text/x-python",
   "name": "python",
   "nbconvert_exporter": "python",
   "pygments_lexer": "ipython3",
   "version": "3.11.11"
  }
 },
 "nbformat": 4,
 "nbformat_minor": 2
}
