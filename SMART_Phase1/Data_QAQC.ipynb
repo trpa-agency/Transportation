{
 "cells": [
  {
   "cell_type": "code",
   "execution_count": null,
   "id": "4bd03154",
   "metadata": {},
   "outputs": [],
   "source": [
    "# setup\n",
    "import os\n",
    "import requests\n",
    "from arcgis.gis import GIS\n",
    "from arcgis.features import FeatureLayer\n",
    "from arcgis.features import GeoAccessor, GeoSeriesAccessor  # registers the pandas .spatial accessor\n",
    "import pandas as pd\n",
    "from pathlib import Path\n",
    "from datetime import datetime, timedelta\n",
    "from utils import *\n",
    "# local path\n",
    "out_dir = Path(\"Data\")\n",
    "# api url\n",
    "derq_api_url = 'https://api-external.cloud.derq.com'\n",
    "# Set the API key as an environment variable\n",
    "headers = {\n",
    "    \"x-api-key\": os.getenv('derq-api-key')\n",
    "}\n",
    "# global variables\n",
    "all_event_types = 'IC, WWD, STPV, TV, LCV, RLV, NM-VV, NM-VRU, CRSH'\n",
    "default_speed_buckets = '5,10,15,20,25'"
   ]
  },
  {
   "cell_type": "code",
   "execution_count": null,
   "id": "8397bde7",
   "metadata": {},
   "outputs": [],
   "source": [
    "# get feature service as dataframe\n",
    "def get_fs_as_df(url: str):\n",
    "    layer = FeatureLayer(url, gis=GIS()) \n",
    "    return pd.DataFrame.spatial.from_layer(layer)\n"
   ]
  },
  {
   "cell_type": "code",
   "execution_count": null,
   "id": "717c76da",
   "metadata": {},
   "outputs": [],
   "source": [
    "# get data from TRPA services\n",
    "smart_location_url = \"https://maps.trpa.org/server/rest/services/Transportation_SMART/FeatureServer/0\"\n",
    "smart_safety_url   = \"https://maps.trpa.org/server/rest/services/Transportation_SMART/FeatureServer/1\"\n",
    "smart_speed_url    = \"https://maps.trpa.org/server/rest/services/Transportation_SMART/FeatureServer/2\"\n",
    "smart_traffic_url  = \"https://maps.trpa.org/server/rest/services/Transportation_SMART/FeatureServer/3\"\n",
    "smart_vru_url      = \"https://maps.trpa.org/server/rest/services/Transportation_SMART/FeatureServer/4\"\n",
    "smart_daily_url    = \"https://maps.trpa.org/server/rest/services/Transportation_SMART/FeatureServer/5\"\n",
    "\n",
    "# data frrame from url\n",
    "df_location = get_fs_as_df(smart_location_url)\n",
    "df_safety   = get_fs_as_df(smart_safety_url)\n",
    "df_speed    = get_fs_as_df(smart_speed_url)\n",
    "df_traffic  = get_fs_as_df(smart_traffic_url)\n",
    "df_vru      = get_fs_as_df(smart_vru_url)\n",
    "df_daily    = get_fs_as_df(smart_daily_url)\n"
   ]
  },
  {
   "cell_type": "code",
   "execution_count": null,
   "id": "3def2a24",
   "metadata": {},
   "outputs": [],
   "source": [
    "df_safety.head()"
   ]
  },
  {
   "cell_type": "code",
   "execution_count": null,
   "id": "7bdbfa5d",
   "metadata": {},
   "outputs": [],
   "source": [
    "# get max and min date from safety data\n",
    "max_date = df_safety['TimeAtSite'].max()\n",
    "min_date = df_safety['TimeAtSite'].min()\n",
    "# built date range text\n",
    "date_range_text = f\"{min_date.strftime('%Y-%m-%d')} to {max_date.strftime('%Y-%m-%d')}\"\n",
    "print(f\"Data available from {date_range_text}\")"
   ]
  }
 ],
 "metadata": {
  "kernelspec": {
   "display_name": "Python 3",
   "language": "python",
   "name": "python3"
  },
  "language_info": {
   "codemirror_mode": {
    "name": "ipython",
    "version": 3
   },
   "file_extension": ".py",
   "mimetype": "text/x-python",
   "name": "python",
   "nbconvert_exporter": "python",
   "pygments_lexer": "ipython3",
   "version": "3.11.11"
  }
 },
 "nbformat": 4,
 "nbformat_minor": 5
}
