{
 "cells": [
  {
   "cell_type": "code",
   "execution_count": null,
   "id": "b35a6fd6-dc56-4089-b337-19a7b49bd7b8",
   "metadata": {
    "microsoft": {
     "language": "python",
     "language_group": "synapse_pyspark"
    }
   },
   "outputs": [
    {
     "data": {
      "application/vnd.livy.statement-meta+json": {
       "execution_finish_time": "2024-12-13T17:34:20.2330523Z",
       "execution_start_time": "2024-12-13T17:34:17.4703353Z",
       "livy_statement_state": "available",
       "normalized_state": "finished",
       "parent_msg_id": "886b381d-3f9e-43e8-8730-1713df4abb1d",
       "queued_time": "2024-12-13T17:34:07.772655Z",
       "session_id": "c2872e01-b22b-48a1-85eb-65a28915ee8c",
       "session_start_time": null,
       "spark_pool": null,
       "state": "finished",
       "statement_id": 5,
       "statement_ids": [
        5
       ]
      },
      "text/plain": [
       "StatementMeta(, c2872e01-b22b-48a1-85eb-65a28915ee8c, 5, Finished, Available, Finished)"
      ]
     },
     "metadata": {},
     "output_type": "display_data"
    }
   ],
   "source": [
    "import pandas as pd\n",
    "import os\n",
    "import shutil\n",
    "import datetime"
   ]
  },
  {
   "cell_type": "code",
   "execution_count": null,
   "id": "491e762d-2d08-4a30-9a53-f51ebd654044",
   "metadata": {
    "jupyter": {
     "outputs_hidden": false,
     "source_hidden": false
    },
    "microsoft": {
     "language": "python",
     "language_group": "synapse_pyspark"
    },
    "nteract": {
     "transient": {
      "deleting": false
     }
    }
   },
   "outputs": [
    {
     "data": {
      "application/vnd.livy.statement-meta+json": {
       "execution_finish_time": "2024-12-13T17:34:41.0328521Z",
       "execution_start_time": "2024-12-13T17:34:40.7953665Z",
       "livy_statement_state": "available",
       "normalized_state": "finished",
       "parent_msg_id": "537a277a-ae9e-4db0-a3f8-20d5371c89ec",
       "queued_time": "2024-12-13T17:34:40.0423863Z",
       "session_id": "c2872e01-b22b-48a1-85eb-65a28915ee8c",
       "session_start_time": null,
       "spark_pool": null,
       "state": "finished",
       "statement_id": 7,
       "statement_ids": [
        7
       ]
      },
      "text/plain": [
       "StatementMeta(, c2872e01-b22b-48a1-85eb-65a28915ee8c, 7, Finished, Available, Finished)"
      ]
     },
     "metadata": {},
     "output_type": "display_data"
    }
   ],
   "source": [
    "def spark_table_gen(df, table_name, mode='append'):\n",
    "    \n",
    "    spark_df = spark.createDataFrame(df)\n",
    "\n",
    "    spark_df.write.format('delta').mode(mode).save(lakehouse_path + '/Tables/' + table_name)\n",
    "\n",
    "    # Create a table in the lakehouse that references the existing data\n",
    "    spark.sql(f\"\"\"\n",
    "        CREATE TABLE IF NOT EXISTS {table_name}\n",
    "        USING DELTA\n",
    "        LOCATION '{lakehouse_path}'\n",
    "    \"\"\")\n",
    "\n",
    "def extract_movement(full_movement):\n",
    "    movement_parts = full_movement.split(' ')\n",
    "    lane = movement_parts[1]\n",
    "    approach = movement_parts[3].replace(',', '')\n",
    "    movement = movement_parts[4]\n",
    "    return lane, approach, movement"
   ]
  },
  {
   "cell_type": "code",
   "execution_count": null,
   "id": "d0f6da59-4230-4811-9439-f7f25765f74b",
   "metadata": {
    "jupyter": {
     "outputs_hidden": false,
     "source_hidden": false
    },
    "microsoft": {
     "language": "python",
     "language_group": "synapse_pyspark"
    },
    "nteract": {
     "transient": {
      "deleting": false
     }
    }
   },
   "outputs": [
    {
     "data": {
      "application/vnd.livy.statement-meta+json": {
       "execution_finish_time": "2024-12-13T17:34:44.166183Z",
       "execution_start_time": "2024-12-13T17:34:43.9256143Z",
       "livy_statement_state": "available",
       "normalized_state": "finished",
       "parent_msg_id": "7f10f108-a8a0-4750-9689-c6a4a43df1bf",
       "queued_time": "2024-12-13T17:34:43.2833769Z",
       "session_id": "c2872e01-b22b-48a1-85eb-65a28915ee8c",
       "session_start_time": null,
       "spark_pool": null,
       "state": "finished",
       "statement_id": 8,
       "statement_ids": [
        8
       ]
      },
      "text/plain": [
       "StatementMeta(, c2872e01-b22b-48a1-85eb-65a28915ee8c, 8, Finished, Available, Finished)"
      ]
     },
     "metadata": {},
     "output_type": "display_data"
    }
   ],
   "source": [
    "# Microsoft Fabric lakehouse settings\n",
    "app_name = \"tahoe\"\n",
    "lakehouse_path = os.getenv('tahoe_lakehouse_path')\n",
    "\n",
    "spark = SparkSession.builder.appName(app_name).getOrCreate()"
   ]
  },
  {
   "cell_type": "code",
   "execution_count": null,
   "id": "de6c36d0-cac2-4d65-961b-43bca587ffd9",
   "metadata": {
    "jupyter": {
     "outputs_hidden": false,
     "source_hidden": false
    },
    "microsoft": {
     "language": "python",
     "language_group": "synapse_pyspark"
    },
    "nteract": {
     "transient": {
      "deleting": false
     }
    }
   },
   "outputs": [
    {
     "data": {
      "application/vnd.livy.statement-meta+json": {
       "execution_finish_time": "2024-12-13T17:34:47.4642649Z",
       "execution_start_time": "2024-12-13T17:34:47.19405Z",
       "livy_statement_state": "available",
       "normalized_state": "finished",
       "parent_msg_id": "c6dc111a-27b2-4763-b886-1f75831de9a3",
       "queued_time": "2024-12-13T17:34:46.593812Z",
       "session_id": "c2872e01-b22b-48a1-85eb-65a28915ee8c",
       "session_start_time": null,
       "spark_pool": null,
       "state": "finished",
       "statement_id": 9,
       "statement_ids": [
        9
       ]
      },
      "text/plain": [
       "StatementMeta(, c2872e01-b22b-48a1-85eb-65a28915ee8c, 9, Finished, Available, Finished)"
      ]
     },
     "metadata": {},
     "output_type": "display_data"
    }
   ],
   "source": [
    "unprocessed_dir = '/lakehouse/default/Files/Unprocessed/'\n",
    "processed_dir = '/lakehouse/default/Files/Processed/'\n",
    "\n",
    "vru_approach_dict = {\n",
    "    'NB': 'S',\n",
    "    'SB': 'N',\n",
    "    'EB': 'W',\n",
    "    'WB': 'E'\n",
    "}\n",
    "\n",
    "class_dict = {\n",
    "    'Mobility Aid': 'Pedestrian',\n",
    "    'Motorcycle': 'Passenger Vehicle',\n",
    "    'Articulated Truck': 'Semi Truck',\n",
    "    'Single Unit Truck': 'Box Truck',\n",
    "    'Person Mobility Device': 'Pedestrian'\n",
    "}\n",
    "\n",
    "severity_dict = {\n",
    "    'High': 'Severe',\n",
    "    'Low': 'Moderate'\n",
    "}\n",
    "\n",
    "default_date = '1900-01-01'"
   ]
  },
  {
   "cell_type": "markdown",
   "id": "a43120ad",
   "metadata": {},
   "source": [
    "### Volume Processing"
   ]
  },
  {
   "cell_type": "code",
   "execution_count": null,
   "id": "cf5787b0-c396-4b01-b8b2-8d4fbaadbda5",
   "metadata": {
    "jupyter": {
     "outputs_hidden": false,
     "source_hidden": false
    },
    "microsoft": {
     "language": "python",
     "language_group": "synapse_pyspark"
    },
    "nteract": {
     "transient": {
      "deleting": false
     }
    }
   },
   "outputs": [
    {
     "data": {
      "application/vnd.livy.statement-meta+json": {
       "execution_finish_time": "2024-12-13T17:35:49.7708287Z",
       "execution_start_time": "2024-12-13T17:35:47.1838597Z",
       "livy_statement_state": "available",
       "normalized_state": "finished",
       "parent_msg_id": "6e24ec2e-f833-491c-a730-618dfb333aa2",
       "queued_time": "2024-12-13T17:35:46.5268621Z",
       "session_id": "c2872e01-b22b-48a1-85eb-65a28915ee8c",
       "session_start_time": null,
       "spark_pool": null,
       "state": "finished",
       "statement_id": 12,
       "statement_ids": [
        12
       ]
      },
      "text/plain": [
       "StatementMeta(, c2872e01-b22b-48a1-85eb-65a28915ee8c, 12, Finished, Available, Finished)"
      ]
     },
     "metadata": {},
     "output_type": "display_data"
    }
   ],
   "source": [
    "source_dir = os.path.join(unprocessed_dir, 'DERQ/Volumes')\n",
    "\n",
    "dfs = []\n",
    "\n",
    "for file in os.listdir(source_dir):\n",
    "    if 'csv' in file:\n",
    "        # get intersection id from file name\n",
    "        intersection_id = file\n",
    "        # read csv file to df\n",
    "        file_path = os.path.join(source_dir, file)\n",
    "        df = pd.read_csv(file_path)\n",
    "        df['intersection_id'] = intersection_id\n",
    "        dfs.append(df)\n",
    "\n",
    "combined_volume = pd.concat(dfs, ignore_index=True)"
   ]
  },
  {
   "cell_type": "code",
   "execution_count": 10,
   "id": "3b9f0bf6-2fa3-49e7-8a2c-1614293e0481",
   "metadata": {
    "jupyter": {
     "outputs_hidden": false,
     "source_hidden": false
    },
    "microsoft": {
     "language": "python",
     "language_group": "synapse_pyspark"
    },
    "nteract": {
     "transient": {
      "deleting": false
     }
    }
   },
   "outputs": [
    {
     "data": {
      "application/vnd.livy.statement-meta+json": {
       "execution_finish_time": "2024-11-21T17:05:49.870961Z",
       "execution_start_time": "2024-11-21T17:05:47.4248851Z",
       "livy_statement_state": "available",
       "normalized_state": "finished",
       "parent_msg_id": "7de0276d-d186-4cad-b7eb-17c471b43a5a",
       "queued_time": "2024-11-21T17:05:46.8976273Z",
       "session_id": "5581e27a-5c98-4d6a-b3cc-986558a4ba82",
       "session_start_time": null,
       "spark_pool": null,
       "state": "finished",
       "statement_id": 14,
       "statement_ids": [
        14
       ]
      },
      "text/plain": [
       "StatementMeta(, 5581e27a-5c98-4d6a-b3cc-986558a4ba82, 14, Finished, Available, Finished)"
      ]
     },
     "metadata": {},
     "output_type": "display_data"
    },
    {
     "data": {
      "text/html": [
       "<div>\n",
       "<style scoped>\n",
       "    .dataframe tbody tr th:only-of-type {\n",
       "        vertical-align: middle;\n",
       "    }\n",
       "\n",
       "    .dataframe tbody tr th {\n",
       "        vertical-align: top;\n",
       "    }\n",
       "\n",
       "    .dataframe thead th {\n",
       "        text-align: right;\n",
       "    }\n",
       "</style>\n",
       "<table border=\"1\" class=\"dataframe\">\n",
       "  <thead>\n",
       "    <tr style=\"text-align: right;\">\n",
       "      <th></th>\n",
       "      <th>volume</th>\n",
       "      <th>date</th>\n",
       "      <th>lane</th>\n",
       "      <th>approach</th>\n",
       "      <th>movement</th>\n",
       "      <th>class</th>\n",
       "      <th>intersection_id</th>\n",
       "      <th>time</th>\n",
       "    </tr>\n",
       "  </thead>\n",
       "  <tbody>\n",
       "    <tr>\n",
       "      <th>0</th>\n",
       "      <td>1</td>\n",
       "      <td>2024-10-24</td>\n",
       "      <td>1.0</td>\n",
       "      <td>NB</td>\n",
       "      <td>LT</td>\n",
       "      <td>Passenger Vehicle</td>\n",
       "      <td>CharlestonBlvd8thSt_vehicle_10-01-2024_to_10-3...</td>\n",
       "      <td>1900-01-01 00:00:00</td>\n",
       "    </tr>\n",
       "    <tr>\n",
       "      <th>1</th>\n",
       "      <td>1</td>\n",
       "      <td>2024-10-31</td>\n",
       "      <td>1.0</td>\n",
       "      <td>NB</td>\n",
       "      <td>LT</td>\n",
       "      <td>Passenger Vehicle</td>\n",
       "      <td>CharlestonBlvd8thSt_vehicle_10-01-2024_to_10-3...</td>\n",
       "      <td>1900-01-01 00:00:00</td>\n",
       "    </tr>\n",
       "    <tr>\n",
       "      <th>2</th>\n",
       "      <td>1</td>\n",
       "      <td>2024-10-24</td>\n",
       "      <td>1.0</td>\n",
       "      <td>NB</td>\n",
       "      <td>TH</td>\n",
       "      <td>Passenger Vehicle</td>\n",
       "      <td>CharlestonBlvd8thSt_vehicle_10-01-2024_to_10-3...</td>\n",
       "      <td>1900-01-01 00:00:00</td>\n",
       "    </tr>\n",
       "    <tr>\n",
       "      <th>3</th>\n",
       "      <td>1</td>\n",
       "      <td>2024-10-17</td>\n",
       "      <td>1.0</td>\n",
       "      <td>SB</td>\n",
       "      <td>TH</td>\n",
       "      <td>Passenger Vehicle</td>\n",
       "      <td>CharlestonBlvd8thSt_vehicle_10-01-2024_to_10-3...</td>\n",
       "      <td>1900-01-01 00:00:00</td>\n",
       "    </tr>\n",
       "    <tr>\n",
       "      <th>4</th>\n",
       "      <td>1</td>\n",
       "      <td>2024-10-24</td>\n",
       "      <td>1.0</td>\n",
       "      <td>SB</td>\n",
       "      <td>TH</td>\n",
       "      <td>Passenger Vehicle</td>\n",
       "      <td>CharlestonBlvd8thSt_vehicle_10-01-2024_to_10-3...</td>\n",
       "      <td>1900-01-01 00:00:00</td>\n",
       "    </tr>\n",
       "    <tr>\n",
       "      <th>...</th>\n",
       "      <td>...</td>\n",
       "      <td>...</td>\n",
       "      <td>...</td>\n",
       "      <td>...</td>\n",
       "      <td>...</td>\n",
       "      <td>...</td>\n",
       "      <td>...</td>\n",
       "      <td>...</td>\n",
       "    </tr>\n",
       "    <tr>\n",
       "      <th>448255</th>\n",
       "      <td>1</td>\n",
       "      <td>2024-10-02</td>\n",
       "      <td>NaN</td>\n",
       "      <td>W</td>\n",
       "      <td>CROSSING</td>\n",
       "      <td>Bicycle</td>\n",
       "      <td>CharlestonBlvdFremontStBoulderHwy_vru_10-01-20...</td>\n",
       "      <td>1900-01-01 23:45:00</td>\n",
       "    </tr>\n",
       "    <tr>\n",
       "      <th>448256</th>\n",
       "      <td>3</td>\n",
       "      <td>2024-10-02</td>\n",
       "      <td>NaN</td>\n",
       "      <td>E</td>\n",
       "      <td>CROSSING</td>\n",
       "      <td>Pedestrian</td>\n",
       "      <td>CharlestonBlvdFremontStBoulderHwy_vru_10-01-20...</td>\n",
       "      <td>1900-01-01 23:45:00</td>\n",
       "    </tr>\n",
       "    <tr>\n",
       "      <th>448257</th>\n",
       "      <td>1</td>\n",
       "      <td>2024-10-23</td>\n",
       "      <td>NaN</td>\n",
       "      <td>E</td>\n",
       "      <td>CROSSING</td>\n",
       "      <td>Pedestrian</td>\n",
       "      <td>CharlestonBlvdFremontStBoulderHwy_vru_10-01-20...</td>\n",
       "      <td>1900-01-01 23:45:00</td>\n",
       "    </tr>\n",
       "    <tr>\n",
       "      <th>448258</th>\n",
       "      <td>1</td>\n",
       "      <td>2024-10-09</td>\n",
       "      <td>NaN</td>\n",
       "      <td>E</td>\n",
       "      <td>CROSSING</td>\n",
       "      <td>Pedestrian</td>\n",
       "      <td>CharlestonBlvdFremontStBoulderHwy_vru_10-01-20...</td>\n",
       "      <td>1900-01-01 23:45:00</td>\n",
       "    </tr>\n",
       "    <tr>\n",
       "      <th>448259</th>\n",
       "      <td>1</td>\n",
       "      <td>2024-10-02</td>\n",
       "      <td>NaN</td>\n",
       "      <td>E</td>\n",
       "      <td>CROSSING</td>\n",
       "      <td>Bicycle</td>\n",
       "      <td>CharlestonBlvdFremontStBoulderHwy_vru_10-01-20...</td>\n",
       "      <td>1900-01-01 23:45:00</td>\n",
       "    </tr>\n",
       "  </tbody>\n",
       "</table>\n",
       "<p>448260 rows × 8 columns</p>\n",
       "</div>"
      ],
      "text/plain": [
       "        volume        date  lane approach  movement              class  \\\n",
       "0            1  2024-10-24   1.0       NB        LT  Passenger Vehicle   \n",
       "1            1  2024-10-31   1.0       NB        LT  Passenger Vehicle   \n",
       "2            1  2024-10-24   1.0       NB        TH  Passenger Vehicle   \n",
       "3            1  2024-10-17   1.0       SB        TH  Passenger Vehicle   \n",
       "4            1  2024-10-24   1.0       SB        TH  Passenger Vehicle   \n",
       "...        ...         ...   ...      ...       ...                ...   \n",
       "448255       1  2024-10-02   NaN        W  CROSSING            Bicycle   \n",
       "448256       3  2024-10-02   NaN        E  CROSSING         Pedestrian   \n",
       "448257       1  2024-10-23   NaN        E  CROSSING         Pedestrian   \n",
       "448258       1  2024-10-09   NaN        E  CROSSING         Pedestrian   \n",
       "448259       1  2024-10-02   NaN        E  CROSSING            Bicycle   \n",
       "\n",
       "                                          intersection_id                time  \n",
       "0       CharlestonBlvd8thSt_vehicle_10-01-2024_to_10-3... 1900-01-01 00:00:00  \n",
       "1       CharlestonBlvd8thSt_vehicle_10-01-2024_to_10-3... 1900-01-01 00:00:00  \n",
       "2       CharlestonBlvd8thSt_vehicle_10-01-2024_to_10-3... 1900-01-01 00:00:00  \n",
       "3       CharlestonBlvd8thSt_vehicle_10-01-2024_to_10-3... 1900-01-01 00:00:00  \n",
       "4       CharlestonBlvd8thSt_vehicle_10-01-2024_to_10-3... 1900-01-01 00:00:00  \n",
       "...                                                   ...                 ...  \n",
       "448255  CharlestonBlvdFremontStBoulderHwy_vru_10-01-20... 1900-01-01 23:45:00  \n",
       "448256  CharlestonBlvdFremontStBoulderHwy_vru_10-01-20... 1900-01-01 23:45:00  \n",
       "448257  CharlestonBlvdFremontStBoulderHwy_vru_10-01-20... 1900-01-01 23:45:00  \n",
       "448258  CharlestonBlvdFremontStBoulderHwy_vru_10-01-20... 1900-01-01 23:45:00  \n",
       "448259  CharlestonBlvdFremontStBoulderHwy_vru_10-01-20... 1900-01-01 23:45:00  \n",
       "\n",
       "[448260 rows x 8 columns]"
      ]
     },
     "execution_count": 34,
     "metadata": {},
     "output_type": "execute_result"
    }
   ],
   "source": [
    "# get times\n",
    "combined_volume[['time', 'end_time']] = combined_volume['timeInterval'].str.split(' - ', expand=True)\n",
    "combined_volume['time'] = pd.to_datetime(default_date + ' ' + combined_volume['time'])\n",
    "\n",
    "# get dates as datetime\n",
    "combined_volume['date'] = pd.to_datetime(combined_volume['date'])\n",
    "combined_volume['date'] = combined_volume['date'].dt.date\n",
    "\n",
    "# drop and rename excess columns\n",
    "combined_volume.drop(columns=['timeInterval', 'movement', 'dayOfTheWeek', 'end_time'], inplace=True)\n",
    "combined_volume.rename(columns={'movementType': 'movement', 'count': 'volume'}, inplace=True)\n",
    "\n",
    "combined_volume['class'] = combined_volume['class'].str.replace('_', ' ').str.title()\n",
    "combined_volume['class'] = combined_volume['class'].replace(class_dict)\n",
    "\n",
    "mask = combined_volume['movement'] == 'CROSSING'\n",
    "combined_volume.loc[mask, 'approach'] = combined_volume.loc[mask, 'approach'].map(vru_approach_dict)\n",
    "\n",
    "combined_volume"
   ]
  },
  {
   "cell_type": "code",
   "execution_count": 11,
   "id": "c23b7c9a-b5a7-4b13-b360-565b0da931e4",
   "metadata": {
    "jupyter": {
     "outputs_hidden": false,
     "source_hidden": false
    },
    "microsoft": {
     "language": "python",
     "language_group": "synapse_pyspark"
    },
    "nteract": {
     "transient": {
      "deleting": false
     }
    }
   },
   "outputs": [
    {
     "data": {
      "application/vnd.livy.statement-meta+json": {
       "execution_finish_time": "2024-11-21T17:06:26.9672992Z",
       "execution_start_time": "2024-11-21T17:06:01.6462497Z",
       "livy_statement_state": "available",
       "normalized_state": "finished",
       "parent_msg_id": "7ca46677-60ea-42a8-94fd-f8ae200d57d8",
       "queued_time": "2024-11-21T17:06:01.1453784Z",
       "session_id": "5581e27a-5c98-4d6a-b3cc-986558a4ba82",
       "session_start_time": null,
       "spark_pool": null,
       "state": "finished",
       "statement_id": 15,
       "statement_ids": [
        15
       ]
      },
      "text/plain": [
       "StatementMeta(, 5581e27a-5c98-4d6a-b3cc-986558a4ba82, 15, Finished, Available, Finished)"
      ]
     },
     "metadata": {},
     "output_type": "display_data"
    },
    {
     "name": "stderr",
     "output_type": "stream",
     "text": [
      "/opt/spark/python/lib/pyspark.zip/pyspark/sql/pandas/conversion.py:604: FutureWarning: iteritems is deprecated and will be removed in a future version. Use .items instead.\n"
     ]
    }
   ],
   "source": [
    "table_name = 'derq_volume_fact_table'\n",
    "spark_table_gen(combined_volume, table_name)"
   ]
  },
  {
   "cell_type": "markdown",
   "id": "4095aa04",
   "metadata": {},
   "source": [
    "### Event processing"
   ]
  },
  {
   "cell_type": "code",
   "execution_count": null,
   "id": "4182e96e-e84d-40a9-b440-09092e76ae05",
   "metadata": {
    "jupyter": {
     "outputs_hidden": false,
     "source_hidden": false
    },
    "microsoft": {
     "language": "python",
     "language_group": "synapse_pyspark"
    },
    "nteract": {
     "transient": {
      "deleting": false
     }
    }
   },
   "outputs": [
    {
     "data": {
      "application/vnd.livy.statement-meta+json": {
       "execution_finish_time": "2024-12-13T17:55:07.0695073Z",
       "execution_start_time": "2024-12-13T17:55:06.2857405Z",
       "livy_statement_state": "available",
       "normalized_state": "finished",
       "parent_msg_id": "0a7efa36-7991-4576-b060-a6c3fcf607ec",
       "queued_time": "2024-12-13T17:55:05.6359287Z",
       "session_id": "c2872e01-b22b-48a1-85eb-65a28915ee8c",
       "session_start_time": null,
       "spark_pool": null,
       "state": "finished",
       "statement_id": 36,
       "statement_ids": [
        36
       ]
      },
      "text/plain": [
       "StatementMeta(, c2872e01-b22b-48a1-85eb-65a28915ee8c, 36, Finished, Available, Finished)"
      ]
     },
     "metadata": {},
     "output_type": "display_data"
    },
    {
     "data": {
      "text/html": [
       "<div>\n",
       "<style scoped>\n",
       "    .dataframe tbody tr th:only-of-type {\n",
       "        vertical-align: middle;\n",
       "    }\n",
       "\n",
       "    .dataframe tbody tr th {\n",
       "        vertical-align: top;\n",
       "    }\n",
       "\n",
       "    .dataframe thead th {\n",
       "        text-align: right;\n",
       "    }\n",
       "</style>\n",
       "<table border=\"1\" class=\"dataframe\">\n",
       "  <thead>\n",
       "    <tr style=\"text-align: right;\">\n",
       "      <th></th>\n",
       "      <th>id</th>\n",
       "      <th>event_type</th>\n",
       "      <th>datetime</th>\n",
       "      <th>intersection</th>\n",
       "      <th>detection_area</th>\n",
       "      <th>speed</th>\n",
       "      <th>nearmiss_type</th>\n",
       "      <th>pet</th>\n",
       "      <th>ttc</th>\n",
       "      <th>gap_time</th>\n",
       "      <th>isSevere</th>\n",
       "      <th>involved</th>\n",
       "      <th>direction</th>\n",
       "      <th>movement</th>\n",
       "      <th>latitude</th>\n",
       "      <th>longitude</th>\n",
       "      <th>time_in_red</th>\n",
       "    </tr>\n",
       "  </thead>\n",
       "  <tbody>\n",
       "    <tr>\n",
       "      <th>0</th>\n",
       "      <td>6721373649636700129e1503</td>\n",
       "      <td>Vehicle-VRU Near Miss</td>\n",
       "      <td>10/29/2024 12:27:47 PM</td>\n",
       "      <td>Charleston Blvd. &amp; 15th St.</td>\n",
       "      <td>North Leg</td>\n",
       "      <td>18 mph</td>\n",
       "      <td>Cutoff</td>\n",
       "      <td>NaN</td>\n",
       "      <td>1.9</td>\n",
       "      <td>0.3</td>\n",
       "      <td>Low</td>\n",
       "      <td>Pedestrian, Passenger Vehicle</td>\n",
       "      <td>NEB</td>\n",
       "      <td>LT</td>\n",
       "      <td>36.159088</td>\n",
       "      <td>-115.132637</td>\n",
       "      <td>NaN</td>\n",
       "    </tr>\n",
       "    <tr>\n",
       "      <th>1</th>\n",
       "      <td>67202d2f7a12a6001252358e</td>\n",
       "      <td>Vehicle-VRU Near Miss</td>\n",
       "      <td>10/28/2024 05:32:44 PM</td>\n",
       "      <td>Charleston Blvd. &amp; 15th St.</td>\n",
       "      <td>North Leg</td>\n",
       "      <td>24 mph</td>\n",
       "      <td>Cutoff</td>\n",
       "      <td>NaN</td>\n",
       "      <td>NaN</td>\n",
       "      <td>0.9</td>\n",
       "      <td>High</td>\n",
       "      <td>Passenger Vehicle, Pedestrian</td>\n",
       "      <td>NB</td>\n",
       "      <td>TH</td>\n",
       "      <td>36.159050</td>\n",
       "      <td>-115.132652</td>\n",
       "      <td>NaN</td>\n",
       "    </tr>\n",
       "    <tr>\n",
       "      <th>2</th>\n",
       "      <td>6719b3f4890b010012ee9b1d</td>\n",
       "      <td>Vehicle-VRU Near Miss</td>\n",
       "      <td>10/23/2024 07:41:54 PM</td>\n",
       "      <td>Charleston Blvd. &amp; 15th St.</td>\n",
       "      <td>North Leg</td>\n",
       "      <td>34 mph</td>\n",
       "      <td>Right-of-way</td>\n",
       "      <td>1.8</td>\n",
       "      <td>NaN</td>\n",
       "      <td>NaN</td>\n",
       "      <td>Low</td>\n",
       "      <td>Passenger Vehicle, Pedestrian</td>\n",
       "      <td>SB</td>\n",
       "      <td>TH</td>\n",
       "      <td>36.159031</td>\n",
       "      <td>-115.132713</td>\n",
       "      <td>NaN</td>\n",
       "    </tr>\n",
       "    <tr>\n",
       "      <th>3</th>\n",
       "      <td>67140da8ba63c30012f9b850</td>\n",
       "      <td>Vehicle-VRU Near Miss</td>\n",
       "      <td>10/19/2024 12:51:01 PM</td>\n",
       "      <td>Charleston Blvd. &amp; 15th St.</td>\n",
       "      <td>South Leg</td>\n",
       "      <td>20 mph</td>\n",
       "      <td>Right-of-way</td>\n",
       "      <td>2.2</td>\n",
       "      <td>NaN</td>\n",
       "      <td>NaN</td>\n",
       "      <td>Low</td>\n",
       "      <td>Passenger Vehicle, Bicyclist</td>\n",
       "      <td>SB</td>\n",
       "      <td>RT</td>\n",
       "      <td>36.158684</td>\n",
       "      <td>-115.132858</td>\n",
       "      <td>NaN</td>\n",
       "    </tr>\n",
       "    <tr>\n",
       "      <th>4</th>\n",
       "      <td>6713ee416dc00d0013d4b250</td>\n",
       "      <td>Vehicle-VRU Near Miss</td>\n",
       "      <td>10/19/2024 10:37:03 AM</td>\n",
       "      <td>Charleston Blvd. &amp; 15th St.</td>\n",
       "      <td>South Leg</td>\n",
       "      <td>39 mph</td>\n",
       "      <td>Right-of-way</td>\n",
       "      <td>2.1</td>\n",
       "      <td>NaN</td>\n",
       "      <td>NaN</td>\n",
       "      <td>Low</td>\n",
       "      <td>Passenger Vehicle, Pedestrian</td>\n",
       "      <td>SB</td>\n",
       "      <td>LT</td>\n",
       "      <td>36.158607</td>\n",
       "      <td>-115.132851</td>\n",
       "      <td>NaN</td>\n",
       "    </tr>\n",
       "  </tbody>\n",
       "</table>\n",
       "</div>"
      ],
      "text/plain": [
       "                         id             event_type                datetime  \\\n",
       "0  6721373649636700129e1503  Vehicle-VRU Near Miss  10/29/2024 12:27:47 PM   \n",
       "1  67202d2f7a12a6001252358e  Vehicle-VRU Near Miss  10/28/2024 05:32:44 PM   \n",
       "2  6719b3f4890b010012ee9b1d  Vehicle-VRU Near Miss  10/23/2024 07:41:54 PM   \n",
       "3  67140da8ba63c30012f9b850  Vehicle-VRU Near Miss  10/19/2024 12:51:01 PM   \n",
       "4  6713ee416dc00d0013d4b250  Vehicle-VRU Near Miss  10/19/2024 10:37:03 AM   \n",
       "\n",
       "                  intersection detection_area   speed nearmiss_type  pet  ttc  \\\n",
       "0  Charleston Blvd. & 15th St.      North Leg  18 mph        Cutoff  NaN  1.9   \n",
       "1  Charleston Blvd. & 15th St.      North Leg  24 mph        Cutoff  NaN  NaN   \n",
       "2  Charleston Blvd. & 15th St.      North Leg  34 mph  Right-of-way  1.8  NaN   \n",
       "3  Charleston Blvd. & 15th St.      South Leg  20 mph  Right-of-way  2.2  NaN   \n",
       "4  Charleston Blvd. & 15th St.      South Leg  39 mph  Right-of-way  2.1  NaN   \n",
       "\n",
       "   gap_time isSevere                       involved direction movement  \\\n",
       "0       0.3      Low  Pedestrian, Passenger Vehicle       NEB       LT   \n",
       "1       0.9     High  Passenger Vehicle, Pedestrian        NB       TH   \n",
       "2       NaN      Low  Passenger Vehicle, Pedestrian        SB       TH   \n",
       "3       NaN      Low   Passenger Vehicle, Bicyclist        SB       RT   \n",
       "4       NaN      Low  Passenger Vehicle, Pedestrian        SB       LT   \n",
       "\n",
       "    latitude   longitude  time_in_red  \n",
       "0  36.159088 -115.132637          NaN  \n",
       "1  36.159050 -115.132652          NaN  \n",
       "2  36.159031 -115.132713          NaN  \n",
       "3  36.158684 -115.132858          NaN  \n",
       "4  36.158607 -115.132851          NaN  "
      ]
     },
     "execution_count": 49,
     "metadata": {},
     "output_type": "execute_result"
    }
   ],
   "source": [
    "source_dir = os.path.join(unprocessed_dir, 'DERQ/Events')\n",
    "\n",
    "event_dfs = []\n",
    "\n",
    "for file_name in os.listdir(source_dir):\n",
    "    file_path = os.path.join(source_dir, file_name)\n",
    "\n",
    "    # read csv file to df\n",
    "    df = pd.read_csv(file_path)\n",
    "    event_dfs.append(df)\n",
    "\n",
    "combined_events = pd.concat(event_dfs, ignore_index=True)\n",
    "combined_events.head(5)"
   ]
  },
  {
   "cell_type": "code",
   "execution_count": null,
   "id": "6fc39ad7-f88d-46ae-b8fe-39b4e7dc380f",
   "metadata": {
    "jupyter": {
     "outputs_hidden": false,
     "source_hidden": false
    },
    "microsoft": {
     "language": "python",
     "language_group": "synapse_pyspark"
    },
    "nteract": {
     "transient": {
      "deleting": false
     }
    }
   },
   "outputs": [
    {
     "data": {
      "application/vnd.livy.statement-meta+json": {
       "execution_finish_time": "2024-12-13T17:55:19.3976167Z",
       "execution_start_time": "2024-12-13T17:55:09.4302565Z",
       "livy_statement_state": "available",
       "normalized_state": "finished",
       "parent_msg_id": "8e2257f6-04c5-4132-9322-7f9bae88f981",
       "queued_time": "2024-12-13T17:55:08.7806467Z",
       "session_id": "c2872e01-b22b-48a1-85eb-65a28915ee8c",
       "session_start_time": null,
       "spark_pool": null,
       "state": "finished",
       "statement_id": 37,
       "statement_ids": [
        37
       ]
      },
      "text/plain": [
       "StatementMeta(, c2872e01-b22b-48a1-85eb-65a28915ee8c, 37, Finished, Available, Finished)"
      ]
     },
     "metadata": {},
     "output_type": "display_data"
    }
   ],
   "source": [
    "# rename id to event_id  \n",
    "combined_events.rename(columns={'id': 'event_id'}, inplace=True)\n",
    "\n",
    "# split date into date and time  \n",
    "combined_events['datetime'] = pd.to_datetime(combined_events['datetime'])\n",
    "combined_events['date'] = combined_events['datetime'].dt.date\n",
    "\n",
    "# strip seconds from time \n",
    "combined_events['time_to_second'] = combined_events['datetime'].dt.strftime('%H:%M:%S')\n",
    "combined_events['time'] = combined_events['datetime'].dt.strftime('%H:%M')\n",
    "combined_events['time'] = combined_events['time'] + ':00'\n",
    "\n",
    "# re-set time cols as datetimes\n",
    "combined_events['time'] = pd.to_datetime(default_date + ' ' + combined_events['time'])\n",
    "combined_events['time_to_second'] = pd.to_datetime(default_date + ' ' + combined_events['time_to_second'])\n",
    "\n",
    "# drop excess columns\n",
    "combined_events.drop(columns=['datetime'], inplace=True)\n",
    "combined_events.rename(columns={'speed': 'speed_mph'}, inplace=True)\n",
    "\n",
    "combined_events['speed_mph'] = combined_events['speed_mph'].str.extract(r'(\\d+)').astype(float)\n",
    "\n",
    "combined_events.rename(columns={'isSevere': 'severity'}, inplace=True)\n",
    "combined_events['severity'] = combined_events['severity'].map(severity_dict)\n",
    "combined_events.loc[combined_events['event_type'] == 'Illegal Crossing', 'severity'] = 'Low'"
   ]
  },
  {
   "cell_type": "code",
   "execution_count": null,
   "id": "d6c705b5-6512-4841-98c2-8d2911b40248",
   "metadata": {
    "jupyter": {
     "outputs_hidden": false,
     "source_hidden": false
    },
    "microsoft": {
     "language": "python",
     "language_group": "synapse_pyspark"
    },
    "nteract": {
     "transient": {
      "deleting": false
     }
    }
   },
   "outputs": [
    {
     "data": {
      "application/vnd.livy.statement-meta+json": {
       "execution_finish_time": "2024-12-13T17:55:31.3508269Z",
       "execution_start_time": "2024-12-13T17:55:26.408311Z",
       "livy_statement_state": "available",
       "normalized_state": "finished",
       "parent_msg_id": "538b349e-8308-4294-9739-c1746314f191",
       "queued_time": "2024-12-13T17:55:25.7961461Z",
       "session_id": "c2872e01-b22b-48a1-85eb-65a28915ee8c",
       "session_start_time": null,
       "spark_pool": null,
       "state": "finished",
       "statement_id": 38,
       "statement_ids": [
        38
       ]
      },
      "text/plain": [
       "StatementMeta(, c2872e01-b22b-48a1-85eb-65a28915ee8c, 38, Finished, Available, Finished)"
      ]
     },
     "metadata": {},
     "output_type": "display_data"
    },
    {
     "name": "stderr",
     "output_type": "stream",
     "text": [
      "/opt/spark/python/lib/pyspark.zip/pyspark/sql/pandas/conversion.py:604: FutureWarning: iteritems is deprecated and will be removed in a future version. Use .items instead.\n"
     ]
    }
   ],
   "source": [
    "table_name = 'derq_event_fact_table'\n",
    "spark_table_gen(combined_events, table_name)"
   ]
  }
 ],
 "metadata": {
  "dependencies": {
   "lakehouse": {
    "default_lakehouse": "58a7543d-9eec-45df-881f-5a72eff7b285",
    "default_lakehouse_name": "RTCSN_Smart",
    "default_lakehouse_workspace_id": "29274fa5-1058-4a3d-9c31-14a55c35f0f2"
   }
  },
  "kernel_info": {
   "name": "synapse_pyspark"
  },
  "kernelspec": {
   "display_name": "Synapse PySpark",
   "language": "Python",
   "name": "synapse_pyspark"
  },
  "language_info": {
   "name": "python"
  },
  "microsoft": {
   "language": "python",
   "language_group": "synapse_pyspark",
   "ms_spell_check": {
    "ms_spell_check_language": "en"
   }
  },
  "nteract": {
   "version": "nteract-front-end@1.0.0"
  },
  "spark_compute": {
   "compute_id": "/trident/default",
   "session_options": {
    "conf": {
     "spark.synapse.nbs.session.timeout": "1200000"
    }
   }
  }
 },
 "nbformat": 4,
 "nbformat_minor": 5
}
