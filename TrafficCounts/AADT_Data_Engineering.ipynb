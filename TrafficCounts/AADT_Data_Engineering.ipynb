{
 "cells": [
  {
   "cell_type": "code",
   "execution_count": null,
   "metadata": {},
   "outputs": [],
   "source": [
    "import pandas as pd"
   ]
  },
  {
   "cell_type": "code",
   "execution_count": null,
   "metadata": {},
   "outputs": [],
   "source": [
    "# We have two sheets in an excel file, one for california and one for nevada\n",
    "# We want to combine them into one dataframe\n",
    "# We need to standardize a traffic count station feature class\n",
    "traffic_data = \"data/AADT_JS_Updated20240312.xlsx\"\n",
    "ca_data = pd.read_excel(traffic_data, sheet_name='CA')\n",
    "nv_data = pd.read_excel(traffic_data, sheet_name='NV')\n",
    "all_data = pd.concat([ca_data, nv_data], ignore_index=True)"
   ]
  }
 ],
 "metadata": {
  "language_info": {
   "name": "python"
  }
 },
 "nbformat": 4,
 "nbformat_minor": 2
}
