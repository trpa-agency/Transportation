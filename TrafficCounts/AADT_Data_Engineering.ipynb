{
 "cells": [
  {
   "cell_type": "code",
   "execution_count": 1,
   "metadata": {},
   "outputs": [],
   "source": [
    "import pandas as pd\n",
    "from arcgis.features import FeatureLayer"
   ]
  },
  {
   "cell_type": "code",
   "execution_count": 2,
   "metadata": {},
   "outputs": [],
   "source": [
    "def get_fs_data_spatial(service_url):\n",
    "    feature_layer = FeatureLayer(service_url)\n",
    "    sdf = pd.DataFrame.spatial.from_layer(feature_layer)\n",
    "    return sdf"
   ]
  },
  {
   "cell_type": "code",
   "execution_count": 3,
   "metadata": {},
   "outputs": [],
   "source": [
    "# We have two sheets in an excel file, one for california and one for nevada\n",
    "# We want to combine them into one dataframe\n",
    "# We need to standardize a traffic count station feature class\n",
    "traffic_data = \"data/AADT_JS_Updated20240312.xlsx\"\n",
    "ca_data = pd.read_excel(traffic_data, sheet_name='CA')\n",
    "nv_data = pd.read_excel(traffic_data, sheet_name='NV')\n",
    "all_data = pd.concat([ca_data, nv_data], ignore_index=True)"
   ]
  },
  {
   "cell_type": "code",
   "execution_count": 4,
   "metadata": {},
   "outputs": [],
   "source": [
    "nv_data.rename(columns={'Station ID': 'Station_Number'}, inplace=True)"
   ]
  },
  {
   "cell_type": "code",
   "execution_count": 5,
   "metadata": {},
   "outputs": [],
   "source": [
    "#Melt california data with 'Description' as the id vars\n",
    "# \n",
    "years = [2022] \n",
    "ca_data_melted = pd.melt(ca_data, id_vars=['County','DESCRIPTION'], value_vars=years, var_name='year_of_count', value_name='count_value')\n",
    "\n",
    "nv_data_melted = pd.melt(nv_data, id_vars=['Station_Number'], value_vars=years, var_name='year_of_count', value_name='count_value')\n",
    "#all_data_melted = pd.concat([ca_data_melted, nv_data_melted], ignore_index=True)\n"
   ]
  },
  {
   "cell_type": "code",
   "execution_count": 6,
   "metadata": {},
   "outputs": [],
   "source": [
    "count_locations = get_fs_data_spatial('https://maps.trpa.org/server/rest/services/LTInfo_Monitoring/MapServer/10')"
   ]
  },
  {
   "cell_type": "code",
   "execution_count": 7,
   "metadata": {},
   "outputs": [],
   "source": [
    "#drop a list of columns from count_locations\n",
    "columns_to_drop = ['BACK_PEAK_HR', 'BACK_PEAK_HR','BACK_PEAK_MONTH', 'BACK_AADT',\n",
    "                   'AHEAD_PEAK_HR', 'AHEAD_PEAK_MONTH', 'AHEAD_AADT',\n",
    "    'year_of_count', 'count_value', 'OBJECTID', 'GlobalID', 'created_date', \n",
    "                   'created_user', 'last_edited_date', 'last_edited_user']\n",
    "count_locations_unique = count_locations.drop(columns_to_drop, axis=1)\n",
    "count_locations_unique = count_locations_unique.drop_duplicates(subset=['SHAPE'])\n"
   ]
  },
  {
   "cell_type": "code",
   "execution_count": 8,
   "metadata": {},
   "outputs": [],
   "source": [
    "count_locations_unique.to_csv('data/count_locations_unique.csv', index=False)"
   ]
  },
  {
   "cell_type": "code",
   "execution_count": 9,
   "metadata": {},
   "outputs": [],
   "source": [
    "ca_location_mapping = pd.read_csv('data/location_mapping.csv')\n",
    "#merge ca_data_melted with ca_location_mapping on 'county and site_name'\n",
    "ca_data_melted = pd.merge(ca_data_melted, ca_location_mapping, on=['County', 'DESCRIPTION'], how='left')"
   ]
  },
  {
   "cell_type": "code",
   "execution_count": 10,
   "metadata": {},
   "outputs": [],
   "source": [
    "ca_data_joined = pd.merge(count_locations_unique, ca_data_melted, on=['site_name','COUNTY'], how='left')\n",
    "ca_data_joined = ca_data_joined.dropna(subset=['ROUTE'])"
   ]
  },
  {
   "cell_type": "code",
   "execution_count": 11,
   "metadata": {},
   "outputs": [
    {
     "name": "stdout",
     "output_type": "stream",
     "text": [
      "<class 'pandas.core.frame.DataFrame'>\n",
      "RangeIndex: 35 entries, 0 to 34\n",
      "Data columns (total 3 columns):\n",
      " #   Column          Non-Null Count  Dtype \n",
      "---  ------          --------------  ----- \n",
      " 0   Station_Number  35 non-null     int64 \n",
      " 1   year_of_count   35 non-null     object\n",
      " 2   count_value     35 non-null     int64 \n",
      "dtypes: int64(2), object(1)\n",
      "memory usage: 972.0+ bytes\n"
     ]
    }
   ],
   "source": [
    "nv_data_melted.info()"
   ]
  },
  {
   "cell_type": "code",
   "execution_count": null,
   "metadata": {},
   "outputs": [],
   "source": [
    "count_locations_unique.info()"
   ]
  },
  {
   "cell_type": "code",
   "execution_count": 12,
   "metadata": {},
   "outputs": [],
   "source": [
    "nv_data_melted['Station_Number']=nv_data_melted['Station_Number'].astype(str)"
   ]
  },
  {
   "cell_type": "code",
   "execution_count": 13,
   "metadata": {},
   "outputs": [],
   "source": [
    "nv_data_joined = pd.merge(count_locations_unique, nv_data_melted, on=['Station_Number'], how='left')\n",
    "nv_data_joined = nv_data_joined.dropna(subset=['count_value'])"
   ]
  },
  {
   "cell_type": "code",
   "execution_count": null,
   "metadata": {},
   "outputs": [],
   "source": [
    "import arcpy\n",
    "\n",
    "gdb_path = r\"F:\\GIS\\PROJECTS\\Transportation\\Traffic_Counts\\Traffic_Counts\\Traffic_Counts.gdb\"\n",
    "feature_class_name = \"ca_traffic_counts_1\"\n",
    "output_fc = f\"{gdb_path}\\\\{feature_class_name}\"\n",
    "\n",
    "# Create the feature class\n",
    "arcpy.CreateFeatureclass_management(gdb_path, feature_class_name, \"POINT\", spatial_reference=4326)\n",
    "\n",
    "# Add fields\n",
    "# Add all non-geometry fields dynamically\n",
    "for column in ca_data_joined.columns:\n",
    "    if column not in [\"longitude\", \"latitude\", \"SHAPE\"]:  # Exclude geometry fields\n",
    "        field_type = \"TEXT\" if ca_data_joined[column].dtype == object else \"DOUBLE\"  # Assign data types\n",
    "        arcpy.AddField_management(output_fc, column, field_type)\n",
    "\n",
    "# Get field names for insertion (excluding geometry)\n",
    "field_names = [field.name for field in arcpy.ListFields(output_fc) if field.name not in [\"OBJECTID\", \"SHAPE\"]]\n",
    "\n",
    "# Insert data dynamically\n",
    "with arcpy.da.InsertCursor(output_fc, [\"SHAPE@\"] + field_names) as cursor:\n",
    "    for _, row in ca_data_joined.iterrows():\n",
    "        \n",
    "        values = [row['SHAPE']] + [row[col] for col in field_names]  # Collect field values\n",
    "        cursor.insertRow(values)\n",
    "\n",
    "print(f\"Feature class created at {output_fc}\")"
   ]
  },
  {
   "cell_type": "code",
   "execution_count": null,
   "metadata": {},
   "outputs": [],
   "source": [
    "output_fc = f\"{gdb_path}\\\\{feature_class_name}\"\n",
    "\n",
    "# Convert SDF to a Feature Class using ArcPy\n",
    "ca_data_joined.spatial.to_featureclass(location=output_fc)"
   ]
  },
  {
   "cell_type": "code",
   "execution_count": null,
   "metadata": {},
   "outputs": [],
   "source": [
    "feature_class_name = \"nv_traffic_counts\"\n",
    "nv_data_joined.spatial.to_featureclass(location=f\"{gdb_path}\\\\{feature_class_name}\")"
   ]
  },
  {
   "cell_type": "code",
   "execution_count": null,
   "metadata": {},
   "outputs": [],
   "source": [
    "import arcpy\n",
    "\n",
    "gdb_path = r\"F:\\GIS\\PROJECTS\\Transportation\\Traffic_Counts\\Traffic_Counts\\Traffic_Counts.gdb\"\n",
    "feature_class_name = \"nv_traffic_counts\"\n",
    "output_fc = f\"{gdb_path}\\\\{feature_class_name}\"\n",
    "\n",
    "# Create the feature class\n",
    "arcpy.CreateFeatureclass_management(gdb_path, feature_class_name, \"POINT\", spatial_reference=4326)\n",
    "\n",
    "# Add fields\n",
    "# Add all non-geometry fields dynamically\n",
    "for column in ca_data_joined.columns:\n",
    "    if column not in [\"longitude\", \"latitude\", \"SHAPE\"]:  # Exclude geometry fields\n",
    "        field_type = \"TEXT\" if ca_data_joined[column].dtype == object else \"DOUBLE\"  # Assign data types\n",
    "        arcpy.AddField_management(output_fc, column, field_type)\n",
    "\n",
    "# Get field names for insertion (excluding geometry)\n",
    "field_names = [field.name for field in arcpy.ListFields(output_fc) if field.name not in [\"OBJECTID\", \"SHAPE\"]]\n",
    "\n",
    "# Insert data dynamically\n",
    "with arcpy.da.InsertCursor(output_fc, [\"SHAPE@\"] + field_names) as cursor:\n",
    "    for _, row in ca_data_joined.iterrows():\n",
    "        point = arcpy.Point(row.longitude, row.latitude)  # Create point geometry\n",
    "        values = [point] + [row[col] for col in field_names]  # Collect field values\n",
    "        cursor.insertRow(values)\n",
    "\n",
    "print(f\"Feature class created at {output_fc}\")"
   ]
  }
 ],
 "metadata": {
  "kernelspec": {
   "display_name": "Python 3",
   "language": "python",
   "name": "python3"
  },
  "language_info": {
   "codemirror_mode": {
    "name": "ipython",
    "version": 3
   },
   "file_extension": ".py",
   "mimetype": "text/x-python",
   "name": "python",
   "nbconvert_exporter": "python",
   "pygments_lexer": "ipython3",
   "version": "3.11.10"
  }
 },
 "nbformat": 4,
 "nbformat_minor": 2
}
